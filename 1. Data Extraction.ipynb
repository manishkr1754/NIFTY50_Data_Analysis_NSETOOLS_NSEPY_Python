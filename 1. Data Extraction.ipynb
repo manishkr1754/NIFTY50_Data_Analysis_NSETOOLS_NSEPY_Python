{
 "cells": [
  {
   "cell_type": "markdown",
   "id": "219b7891",
   "metadata": {},
   "source": [
    "---\n",
    "\n",
    "# 1. Data Extraction \n",
    "\n",
    "**Download NIFTY50 daily data for last 15 years using API like nsetools/nsepy**\n",
    "\n",
    "---"
   ]
  },
  {
   "cell_type": "markdown",
   "id": "b1ab687f",
   "metadata": {},
   "source": [
    "## Detailed Article @ Medium\n",
    "- [NIFTY50 Data Analysis Series using Python](https://medium.com/@kmrmanish/nifty50-data-analysis-using-python-d9227e525894)\n",
    "- [A Data Extraction Guide for NIFTY50 Historical Data [1]](https://medium.com/@kmrmanish/a-data-extraction-guide-for-nifty50-historical-data-1-220a097c7a1a)\n",
    "\n",
    "---"
   ]
  },
  {
   "cell_type": "markdown",
   "id": "5744e972",
   "metadata": {},
   "source": [
    "### Step-1 : Installation of NSEPY"
   ]
  },
  {
   "cell_type": "code",
   "execution_count": 1,
   "id": "10761c9b",
   "metadata": {},
   "outputs": [
    {
     "name": "stdout",
     "output_type": "stream",
     "text": [
      "Requirement already satisfied: nsepy in c:\\users\\manis\\anaconda3\\lib\\site-packages (0.8)\n",
      "Requirement already satisfied: requests in c:\\users\\manis\\anaconda3\\lib\\site-packages (from nsepy) (2.28.1)\n",
      "Requirement already satisfied: pandas in c:\\users\\manis\\anaconda3\\lib\\site-packages (from nsepy) (1.4.4)\n",
      "Requirement already satisfied: lxml in c:\\users\\manis\\anaconda3\\lib\\site-packages (from nsepy) (4.9.1)\n",
      "Requirement already satisfied: click in c:\\users\\manis\\anaconda3\\lib\\site-packages (from nsepy) (8.0.4)\n",
      "Requirement already satisfied: numpy in c:\\users\\manis\\anaconda3\\lib\\site-packages (from nsepy) (1.24.2)\n",
      "Requirement already satisfied: beautifulsoup4 in c:\\users\\manis\\anaconda3\\lib\\site-packages (from nsepy) (4.11.1)\n",
      "Requirement already satisfied: six in c:\\users\\manis\\anaconda3\\lib\\site-packages (from nsepy) (1.16.0)\n",
      "Requirement already satisfied: soupsieve>1.2 in c:\\users\\manis\\anaconda3\\lib\\site-packages (from beautifulsoup4->nsepy) (2.3.1)\n",
      "Requirement already satisfied: colorama in c:\\users\\manis\\anaconda3\\lib\\site-packages (from click->nsepy) (0.4.6)\n",
      "Requirement already satisfied: python-dateutil>=2.8.1 in c:\\users\\manis\\anaconda3\\lib\\site-packages (from pandas->nsepy) (2.8.2)\n",
      "Requirement already satisfied: pytz>=2020.1 in c:\\users\\manis\\anaconda3\\lib\\site-packages (from pandas->nsepy) (2023.3)\n",
      "Requirement already satisfied: urllib3<1.27,>=1.21.1 in c:\\users\\manis\\anaconda3\\lib\\site-packages (from requests->nsepy) (1.26.11)\n",
      "Requirement already satisfied: charset-normalizer<3,>=2 in c:\\users\\manis\\anaconda3\\lib\\site-packages (from requests->nsepy) (2.0.4)\n",
      "Requirement already satisfied: certifi>=2017.4.17 in c:\\users\\manis\\anaconda3\\lib\\site-packages (from requests->nsepy) (2022.9.14)\n",
      "Requirement already satisfied: idna<4,>=2.5 in c:\\users\\manis\\anaconda3\\lib\\site-packages (from requests->nsepy) (3.3)\n",
      "Note: you may need to restart the kernel to use updated packages.\n"
     ]
    }
   ],
   "source": [
    "pip install nsepy"
   ]
  },
  {
   "cell_type": "markdown",
   "id": "82537008",
   "metadata": {},
   "source": [
    "### Step-2 : Importing libraries required for Data Extraction of NIFTY50"
   ]
  },
  {
   "cell_type": "code",
   "execution_count": 2,
   "id": "ee25dda5",
   "metadata": {},
   "outputs": [],
   "source": [
    "import nsepy\n",
    "from datetime import date, timedelta\n",
    "from dateutil.relativedelta import relativedelta\n",
    "import time"
   ]
  },
  {
   "cell_type": "markdown",
   "id": "ef5701c8",
   "metadata": {},
   "source": [
    "### Step-3 : Defining range of NIFTY50 Data"
   ]
  },
  {
   "cell_type": "markdown",
   "id": "f2650623",
   "metadata": {},
   "source": [
    "#### Method-1 : Using `**timedelta**`"
   ]
  },
  {
   "cell_type": "code",
   "execution_count": 3,
   "id": "f1f48346",
   "metadata": {},
   "outputs": [
    {
     "name": "stdout",
     "output_type": "stream",
     "text": [
      "2023-04-12\n",
      "2008-04-15\n"
     ]
    }
   ],
   "source": [
    "# Define the start and end dates for the data\n",
    "end_date = date.today()\n",
    "start_date = end_date - timedelta(days=365*15)\n",
    "print(end_date)\n",
    "print(start_date)"
   ]
  },
  {
   "cell_type": "markdown",
   "id": "b4a3043a",
   "metadata": {},
   "source": [
    "#### Method-2 : Using `**relativedelta**`"
   ]
  },
  {
   "cell_type": "code",
   "execution_count": 4,
   "id": "440a31bc",
   "metadata": {},
   "outputs": [
    {
     "name": "stdout",
     "output_type": "stream",
     "text": [
      "2023-04-12\n",
      "2008-04-12\n"
     ]
    }
   ],
   "source": [
    "# Define the start and end dates for the data\n",
    "end_date = date.today()\n",
    "start_date = end_date - relativedelta(years=15)\n",
    "print(end_date)\n",
    "print(start_date)"
   ]
  },
  {
   "cell_type": "markdown",
   "id": "baf1f174",
   "metadata": {},
   "source": [
    "#### Method-3 : Using `**date**`"
   ]
  },
  {
   "cell_type": "code",
   "execution_count": 5,
   "id": "d1342de4",
   "metadata": {},
   "outputs": [
    {
     "name": "stdout",
     "output_type": "stream",
     "text": [
      "2023-03-31\n",
      "2008-01-01\n"
     ]
    }
   ],
   "source": [
    "# Define the start and end dates for the data\n",
    "end_date = date(2023,3,31)\n",
    "start_date = date(2008,1,1)\n",
    "print(end_date)\n",
    "print(start_date)"
   ]
  },
  {
   "cell_type": "markdown",
   "id": "64b7d1af",
   "metadata": {},
   "source": [
    "### Step-4 : NIFTY50 Data Extraction using get_history() function"
   ]
  },
  {
   "cell_type": "code",
   "execution_count": 11,
   "id": "e598f7b9",
   "metadata": {
    "scrolled": true
   },
   "outputs": [
    {
     "name": "stdout",
     "output_type": "stream",
     "text": [
      "Empty DataFrame\n",
      "Columns: [Open, High, Low, Close, Volume, Turnover]\n",
      "Index: []\n"
     ]
    }
   ],
   "source": [
    "# Download the data\n",
    "nifty50_data = nsepy.get_history('NIFTY 50', start=start_date, end=end_date, index=True)\n",
    "\n",
    "# Print the data\n",
    "print(nifty50_data)"
   ]
  },
  {
   "cell_type": "markdown",
   "id": "e439f176",
   "metadata": {},
   "source": [
    "### Step-5 : Exporting downloaded data to .csv"
   ]
  },
  {
   "cell_type": "code",
   "execution_count": 12,
   "id": "57d09635",
   "metadata": {},
   "outputs": [],
   "source": [
    "nifty50_data.to_csv('C:/Users/manis/OneDrive/Desktop/NIFTY50/Tasks/nifty50_Jan2008_Mar2023.csv')"
   ]
  }
 ],
 "metadata": {
  "kernelspec": {
   "display_name": "Python 3 (ipykernel)",
   "language": "python",
   "name": "python3"
  },
  "language_info": {
   "codemirror_mode": {
    "name": "ipython",
    "version": 3
   },
   "file_extension": ".py",
   "mimetype": "text/x-python",
   "name": "python",
   "nbconvert_exporter": "python",
   "pygments_lexer": "ipython3",
   "version": "3.9.13"
  }
 },
 "nbformat": 4,
 "nbformat_minor": 5
}
