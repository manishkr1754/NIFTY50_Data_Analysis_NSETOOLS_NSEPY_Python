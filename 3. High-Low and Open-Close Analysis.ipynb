{
 "cells": [
  {
   "cell_type": "markdown",
   "id": "8b46ce4a",
   "metadata": {},
   "source": [
    "---\n",
    "\n",
    "# 1. High-Low & Open-Close Analysis\n",
    "\n",
    "**Insights from High-Low & Open-Close Analysis for last 15 years NIFTY50 historical data**\n",
    "\n",
    "---"
   ]
  },
  {
   "cell_type": "markdown",
   "id": "9745b58a",
   "metadata": {},
   "source": [
    "## Detailed Article @ Medium\n",
    "- [NIFTY50 Data Analysis Series using Python](https://medium.com/@kmrmanish/nifty50-data-analysis-using-python-d9227e525894)\n",
    "\n",
    "- [A Data Extraction Guide for NIFTY50 Historical Data [1]](https://medium.com/@kmrmanish/a-data-extraction-guide-for-nifty50-historical-data-1-220a097c7a1a)\n",
    "\n",
    "- [Interactive Data Visualization for NIFTY50 Historical Data [2]](https://medium.com/@kmrmanish/interactive-data-visualization-for-nifty50-historical-data-2-5a7fb672a8ec)\n",
    "\n",
    "---"
   ]
  },
  {
   "cell_type": "code",
   "execution_count": null,
   "id": "17d29ccb",
   "metadata": {},
   "outputs": [],
   "source": []
  }
 ],
 "metadata": {
  "kernelspec": {
   "display_name": "Python 3 (ipykernel)",
   "language": "python",
   "name": "python3"
  },
  "language_info": {
   "codemirror_mode": {
    "name": "ipython",
    "version": 3
   },
   "file_extension": ".py",
   "mimetype": "text/x-python",
   "name": "python",
   "nbconvert_exporter": "python",
   "pygments_lexer": "ipython3",
   "version": "3.9.13"
  }
 },
 "nbformat": 4,
 "nbformat_minor": 5
}
